{
 "cells": [
  {
   "cell_type": "markdown",
   "id": "c76b170844c1ea2d",
   "metadata": {},
   "source": [
    "# Install dependencies"
   ]
  },
  {
   "cell_type": "code",
   "execution_count": 1,
   "id": "aebc857ccabefdcd",
   "metadata": {
    "ExecuteTime": {
     "end_time": "2024-09-12T18:49:27.252901Z",
     "start_time": "2024-09-12T18:49:23.590665Z"
    }
   },
   "outputs": [
    {
     "name": "stdout",
     "output_type": "stream",
     "text": [
      "Collecting git+https://github.com/huggingface/transformers\n",
      "  Cloning https://github.com/huggingface/transformers to /tmp/pip-req-build-90vnkfq6\n",
      "  Running command git clone --filter=blob:none --quiet https://github.com/huggingface/transformers /tmp/pip-req-build-90vnkfq6\n",
      "\n",
      "  Resolved https://github.com/huggingface/transformers to commit 8bd2b1e8c23234cd607ca8d63f53c1edfea27462\n",
      "  Installing build dependencies ... \u001B[?25ldone\n",
      "\u001B[?25h  Getting requirements to build wheel ... \u001B[?25ldone\n",
      "\u001B[?25h  Preparing metadata (pyproject.toml) ... \u001B[?25ldone\n",
      "\u001B[?25hRequirement already satisfied: filelock in /system/conda/miniconda3/envs/cloudspace/lib/python3.10/site-packages (from transformers==4.45.0.dev0) (3.16.0)\n",
      "Requirement already satisfied: huggingface-hub<1.0,>=0.23.2 in /system/conda/miniconda3/envs/cloudspace/lib/python3.10/site-packages (from transformers==4.45.0.dev0) (0.24.7)\n",
      "Requirement already satisfied: numpy>=1.17 in /system/conda/miniconda3/envs/cloudspace/lib/python3.10/site-packages (from transformers==4.45.0.dev0) (1.26.4)\n",
      "Requirement already satisfied: packaging>=20.0 in /system/conda/miniconda3/envs/cloudspace/lib/python3.10/site-packages (from transformers==4.45.0.dev0) (24.1)\n",
      "Requirement already satisfied: pyyaml>=5.1 in /system/conda/miniconda3/envs/cloudspace/lib/python3.10/site-packages (from transformers==4.45.0.dev0) (6.0.2)\n",
      "Requirement already satisfied: regex!=2019.12.17 in /system/conda/miniconda3/envs/cloudspace/lib/python3.10/site-packages (from transformers==4.45.0.dev0) (2024.9.11)\n",
      "Requirement already satisfied: requests in /system/conda/miniconda3/envs/cloudspace/lib/python3.10/site-packages (from transformers==4.45.0.dev0) (2.32.3)\n",
      "Requirement already satisfied: tokenizers<0.20,>=0.19 in /system/conda/miniconda3/envs/cloudspace/lib/python3.10/site-packages (from transformers==4.45.0.dev0) (0.19.1)\n",
      "Requirement already satisfied: safetensors>=0.4.1 in /system/conda/miniconda3/envs/cloudspace/lib/python3.10/site-packages (from transformers==4.45.0.dev0) (0.4.5)\n",
      "Requirement already satisfied: tqdm>=4.27 in /system/conda/miniconda3/envs/cloudspace/lib/python3.10/site-packages (from transformers==4.45.0.dev0) (4.66.5)\n",
      "Requirement already satisfied: fsspec>=2023.5.0 in /system/conda/miniconda3/envs/cloudspace/lib/python3.10/site-packages (from huggingface-hub<1.0,>=0.23.2->transformers==4.45.0.dev0) (2024.9.0)\n",
      "Requirement already satisfied: typing-extensions>=3.7.4.3 in /system/conda/miniconda3/envs/cloudspace/lib/python3.10/site-packages (from huggingface-hub<1.0,>=0.23.2->transformers==4.45.0.dev0) (4.12.2)\n",
      "Requirement already satisfied: charset-normalizer<4,>=2 in /system/conda/miniconda3/envs/cloudspace/lib/python3.10/site-packages (from requests->transformers==4.45.0.dev0) (3.3.2)\n",
      "Requirement already satisfied: idna<4,>=2.5 in /system/conda/miniconda3/envs/cloudspace/lib/python3.10/site-packages (from requests->transformers==4.45.0.dev0) (3.8)\n",
      "Requirement already satisfied: urllib3<3,>=1.21.1 in /system/conda/miniconda3/envs/cloudspace/lib/python3.10/site-packages (from requests->transformers==4.45.0.dev0) (2.2.2)\n",
      "Requirement already satisfied: certifi>=2017.4.17 in /system/conda/miniconda3/envs/cloudspace/lib/python3.10/site-packages (from requests->transformers==4.45.0.dev0) (2024.8.30)\n"
     ]
    }
   ],
   "source": [
    "!pip install git+https://github.com/huggingface/transformers"
   ]
  },
  {
   "cell_type": "code",
   "execution_count": 2,
   "id": "f6d064f254330843",
   "metadata": {
    "ExecuteTime": {
     "end_time": "2024-09-12T18:49:27.805734Z",
     "start_time": "2024-09-12T18:49:27.255147Z"
    }
   },
   "outputs": [
    {
     "name": "stdout",
     "output_type": "stream",
     "text": [
      "Requirement already satisfied: qwen-vl-utils in /system/conda/miniconda3/envs/cloudspace/lib/python3.10/site-packages (0.0.4)\n",
      "Requirement already satisfied: pillow in /system/conda/miniconda3/envs/cloudspace/lib/python3.10/site-packages (from qwen-vl-utils) (10.4.0)\n",
      "Requirement already satisfied: requests in /system/conda/miniconda3/envs/cloudspace/lib/python3.10/site-packages (from qwen-vl-utils) (2.32.3)\n",
      "Requirement already satisfied: charset-normalizer<4,>=2 in /system/conda/miniconda3/envs/cloudspace/lib/python3.10/site-packages (from requests->qwen-vl-utils) (3.3.2)\n",
      "Requirement already satisfied: idna<4,>=2.5 in /system/conda/miniconda3/envs/cloudspace/lib/python3.10/site-packages (from requests->qwen-vl-utils) (3.8)\n",
      "Requirement already satisfied: urllib3<3,>=1.21.1 in /system/conda/miniconda3/envs/cloudspace/lib/python3.10/site-packages (from requests->qwen-vl-utils) (2.2.2)\n",
      "Requirement already satisfied: certifi>=2017.4.17 in /system/conda/miniconda3/envs/cloudspace/lib/python3.10/site-packages (from requests->qwen-vl-utils) (2024.8.30)\n"
     ]
    }
   ],
   "source": [
    "!pip install qwen-vl-utils"
   ]
  },
  {
   "cell_type": "code",
   "execution_count": 3,
   "id": "473b2def78489f75",
   "metadata": {
    "ExecuteTime": {
     "end_time": "2024-09-12T18:49:28.327728Z",
     "start_time": "2024-09-12T18:49:27.807217Z"
    }
   },
   "outputs": [
    {
     "name": "stdout",
     "output_type": "stream",
     "text": [
      "Requirement already satisfied: torchvision in /system/conda/miniconda3/envs/cloudspace/lib/python3.10/site-packages (0.17.1+cu121)\n",
      "Requirement already satisfied: numpy in /system/conda/miniconda3/envs/cloudspace/lib/python3.10/site-packages (from torchvision) (1.26.4)\n",
      "Requirement already satisfied: torch==2.2.1 in /system/conda/miniconda3/envs/cloudspace/lib/python3.10/site-packages (from torchvision) (2.2.1+cu121)\n",
      "Requirement already satisfied: pillow!=8.3.*,>=5.3.0 in /system/conda/miniconda3/envs/cloudspace/lib/python3.10/site-packages (from torchvision) (10.4.0)\n",
      "Requirement already satisfied: filelock in /system/conda/miniconda3/envs/cloudspace/lib/python3.10/site-packages (from torch==2.2.1->torchvision) (3.16.0)\n",
      "Requirement already satisfied: typing-extensions>=4.8.0 in /system/conda/miniconda3/envs/cloudspace/lib/python3.10/site-packages (from torch==2.2.1->torchvision) (4.12.2)\n",
      "Requirement already satisfied: sympy in /system/conda/miniconda3/envs/cloudspace/lib/python3.10/site-packages (from torch==2.2.1->torchvision) (1.13.2)\n",
      "Requirement already satisfied: networkx in /system/conda/miniconda3/envs/cloudspace/lib/python3.10/site-packages (from torch==2.2.1->torchvision) (3.3)\n",
      "Requirement already satisfied: jinja2 in /system/conda/miniconda3/envs/cloudspace/lib/python3.10/site-packages (from torch==2.2.1->torchvision) (3.1.4)\n",
      "Requirement already satisfied: fsspec in /system/conda/miniconda3/envs/cloudspace/lib/python3.10/site-packages (from torch==2.2.1->torchvision) (2024.9.0)\n",
      "Requirement already satisfied: nvidia-cuda-nvrtc-cu12==12.1.105 in /system/conda/miniconda3/envs/cloudspace/lib/python3.10/site-packages (from torch==2.2.1->torchvision) (12.1.105)\n",
      "Requirement already satisfied: nvidia-cuda-runtime-cu12==12.1.105 in /system/conda/miniconda3/envs/cloudspace/lib/python3.10/site-packages (from torch==2.2.1->torchvision) (12.1.105)\n",
      "Requirement already satisfied: nvidia-cuda-cupti-cu12==12.1.105 in /system/conda/miniconda3/envs/cloudspace/lib/python3.10/site-packages (from torch==2.2.1->torchvision) (12.1.105)\n",
      "Requirement already satisfied: nvidia-cudnn-cu12==8.9.2.26 in /system/conda/miniconda3/envs/cloudspace/lib/python3.10/site-packages (from torch==2.2.1->torchvision) (8.9.2.26)\n",
      "Requirement already satisfied: nvidia-cublas-cu12==12.1.3.1 in /system/conda/miniconda3/envs/cloudspace/lib/python3.10/site-packages (from torch==2.2.1->torchvision) (12.1.3.1)\n",
      "Requirement already satisfied: nvidia-cufft-cu12==11.0.2.54 in /system/conda/miniconda3/envs/cloudspace/lib/python3.10/site-packages (from torch==2.2.1->torchvision) (11.0.2.54)\n",
      "Requirement already satisfied: nvidia-curand-cu12==10.3.2.106 in /system/conda/miniconda3/envs/cloudspace/lib/python3.10/site-packages (from torch==2.2.1->torchvision) (10.3.2.106)\n",
      "Requirement already satisfied: nvidia-cusolver-cu12==11.4.5.107 in /system/conda/miniconda3/envs/cloudspace/lib/python3.10/site-packages (from torch==2.2.1->torchvision) (11.4.5.107)\n",
      "Requirement already satisfied: nvidia-cusparse-cu12==12.1.0.106 in /system/conda/miniconda3/envs/cloudspace/lib/python3.10/site-packages (from torch==2.2.1->torchvision) (12.1.0.106)\n",
      "Requirement already satisfied: nvidia-nccl-cu12==2.19.3 in /system/conda/miniconda3/envs/cloudspace/lib/python3.10/site-packages (from torch==2.2.1->torchvision) (2.19.3)\n",
      "Requirement already satisfied: nvidia-nvtx-cu12==12.1.105 in /system/conda/miniconda3/envs/cloudspace/lib/python3.10/site-packages (from torch==2.2.1->torchvision) (12.1.105)\n",
      "Requirement already satisfied: triton==2.2.0 in /system/conda/miniconda3/envs/cloudspace/lib/python3.10/site-packages (from torch==2.2.1->torchvision) (2.2.0)\n",
      "Requirement already satisfied: nvidia-nvjitlink-cu12 in /system/conda/miniconda3/envs/cloudspace/lib/python3.10/site-packages (from nvidia-cusolver-cu12==11.4.5.107->torch==2.2.1->torchvision) (12.6.68)\n",
      "Requirement already satisfied: MarkupSafe>=2.0 in /system/conda/miniconda3/envs/cloudspace/lib/python3.10/site-packages (from jinja2->torch==2.2.1->torchvision) (2.1.5)\n",
      "Requirement already satisfied: mpmath<1.4,>=1.1.0 in /system/conda/miniconda3/envs/cloudspace/lib/python3.10/site-packages (from sympy->torch==2.2.1->torchvision) (1.3.0)\n"
     ]
    }
   ],
   "source": [
    "!pip install torchvision"
   ]
  },
  {
   "cell_type": "code",
   "execution_count": 4,
   "id": "541953d9a385e1c8",
   "metadata": {
    "ExecuteTime": {
     "end_time": "2024-09-12T18:49:28.847097Z",
     "start_time": "2024-09-12T18:49:28.329628Z"
    }
   },
   "outputs": [
    {
     "name": "stdout",
     "output_type": "stream",
     "text": [
      "Requirement already satisfied: accelerate in /system/conda/miniconda3/envs/cloudspace/lib/python3.10/site-packages (0.34.2)\n",
      "Requirement already satisfied: numpy<3.0.0,>=1.17 in /system/conda/miniconda3/envs/cloudspace/lib/python3.10/site-packages (from accelerate) (1.26.4)\n",
      "Requirement already satisfied: packaging>=20.0 in /system/conda/miniconda3/envs/cloudspace/lib/python3.10/site-packages (from accelerate) (24.1)\n",
      "Requirement already satisfied: psutil in /system/conda/miniconda3/envs/cloudspace/lib/python3.10/site-packages (from accelerate) (6.0.0)\n",
      "Requirement already satisfied: pyyaml in /system/conda/miniconda3/envs/cloudspace/lib/python3.10/site-packages (from accelerate) (6.0.2)\n",
      "Requirement already satisfied: torch>=1.10.0 in /system/conda/miniconda3/envs/cloudspace/lib/python3.10/site-packages (from accelerate) (2.2.1+cu121)\n",
      "Requirement already satisfied: huggingface-hub>=0.21.0 in /system/conda/miniconda3/envs/cloudspace/lib/python3.10/site-packages (from accelerate) (0.24.7)\n",
      "Requirement already satisfied: safetensors>=0.4.3 in /system/conda/miniconda3/envs/cloudspace/lib/python3.10/site-packages (from accelerate) (0.4.5)\n",
      "Requirement already satisfied: filelock in /system/conda/miniconda3/envs/cloudspace/lib/python3.10/site-packages (from huggingface-hub>=0.21.0->accelerate) (3.16.0)\n",
      "Requirement already satisfied: fsspec>=2023.5.0 in /system/conda/miniconda3/envs/cloudspace/lib/python3.10/site-packages (from huggingface-hub>=0.21.0->accelerate) (2024.9.0)\n",
      "Requirement already satisfied: requests in /system/conda/miniconda3/envs/cloudspace/lib/python3.10/site-packages (from huggingface-hub>=0.21.0->accelerate) (2.32.3)\n",
      "Requirement already satisfied: tqdm>=4.42.1 in /system/conda/miniconda3/envs/cloudspace/lib/python3.10/site-packages (from huggingface-hub>=0.21.0->accelerate) (4.66.5)\n",
      "Requirement already satisfied: typing-extensions>=3.7.4.3 in /system/conda/miniconda3/envs/cloudspace/lib/python3.10/site-packages (from huggingface-hub>=0.21.0->accelerate) (4.12.2)\n",
      "Requirement already satisfied: sympy in /system/conda/miniconda3/envs/cloudspace/lib/python3.10/site-packages (from torch>=1.10.0->accelerate) (1.13.2)\n",
      "Requirement already satisfied: networkx in /system/conda/miniconda3/envs/cloudspace/lib/python3.10/site-packages (from torch>=1.10.0->accelerate) (3.3)\n",
      "Requirement already satisfied: jinja2 in /system/conda/miniconda3/envs/cloudspace/lib/python3.10/site-packages (from torch>=1.10.0->accelerate) (3.1.4)\n",
      "Requirement already satisfied: nvidia-cuda-nvrtc-cu12==12.1.105 in /system/conda/miniconda3/envs/cloudspace/lib/python3.10/site-packages (from torch>=1.10.0->accelerate) (12.1.105)\n",
      "Requirement already satisfied: nvidia-cuda-runtime-cu12==12.1.105 in /system/conda/miniconda3/envs/cloudspace/lib/python3.10/site-packages (from torch>=1.10.0->accelerate) (12.1.105)\n",
      "Requirement already satisfied: nvidia-cuda-cupti-cu12==12.1.105 in /system/conda/miniconda3/envs/cloudspace/lib/python3.10/site-packages (from torch>=1.10.0->accelerate) (12.1.105)\n",
      "Requirement already satisfied: nvidia-cudnn-cu12==8.9.2.26 in /system/conda/miniconda3/envs/cloudspace/lib/python3.10/site-packages (from torch>=1.10.0->accelerate) (8.9.2.26)\n",
      "Requirement already satisfied: nvidia-cublas-cu12==12.1.3.1 in /system/conda/miniconda3/envs/cloudspace/lib/python3.10/site-packages (from torch>=1.10.0->accelerate) (12.1.3.1)\n",
      "Requirement already satisfied: nvidia-cufft-cu12==11.0.2.54 in /system/conda/miniconda3/envs/cloudspace/lib/python3.10/site-packages (from torch>=1.10.0->accelerate) (11.0.2.54)\n",
      "Requirement already satisfied: nvidia-curand-cu12==10.3.2.106 in /system/conda/miniconda3/envs/cloudspace/lib/python3.10/site-packages (from torch>=1.10.0->accelerate) (10.3.2.106)\n",
      "Requirement already satisfied: nvidia-cusolver-cu12==11.4.5.107 in /system/conda/miniconda3/envs/cloudspace/lib/python3.10/site-packages (from torch>=1.10.0->accelerate) (11.4.5.107)\n",
      "Requirement already satisfied: nvidia-cusparse-cu12==12.1.0.106 in /system/conda/miniconda3/envs/cloudspace/lib/python3.10/site-packages (from torch>=1.10.0->accelerate) (12.1.0.106)\n",
      "Requirement already satisfied: nvidia-nccl-cu12==2.19.3 in /system/conda/miniconda3/envs/cloudspace/lib/python3.10/site-packages (from torch>=1.10.0->accelerate) (2.19.3)\n",
      "Requirement already satisfied: nvidia-nvtx-cu12==12.1.105 in /system/conda/miniconda3/envs/cloudspace/lib/python3.10/site-packages (from torch>=1.10.0->accelerate) (12.1.105)\n",
      "Requirement already satisfied: triton==2.2.0 in /system/conda/miniconda3/envs/cloudspace/lib/python3.10/site-packages (from torch>=1.10.0->accelerate) (2.2.0)\n",
      "Requirement already satisfied: nvidia-nvjitlink-cu12 in /system/conda/miniconda3/envs/cloudspace/lib/python3.10/site-packages (from nvidia-cusolver-cu12==11.4.5.107->torch>=1.10.0->accelerate) (12.6.68)\n",
      "Requirement already satisfied: MarkupSafe>=2.0 in /system/conda/miniconda3/envs/cloudspace/lib/python3.10/site-packages (from jinja2->torch>=1.10.0->accelerate) (2.1.5)\n",
      "Requirement already satisfied: charset-normalizer<4,>=2 in /system/conda/miniconda3/envs/cloudspace/lib/python3.10/site-packages (from requests->huggingface-hub>=0.21.0->accelerate) (3.3.2)\n",
      "Requirement already satisfied: idna<4,>=2.5 in /system/conda/miniconda3/envs/cloudspace/lib/python3.10/site-packages (from requests->huggingface-hub>=0.21.0->accelerate) (3.8)\n",
      "Requirement already satisfied: urllib3<3,>=1.21.1 in /system/conda/miniconda3/envs/cloudspace/lib/python3.10/site-packages (from requests->huggingface-hub>=0.21.0->accelerate) (2.2.2)\n",
      "Requirement already satisfied: certifi>=2017.4.17 in /system/conda/miniconda3/envs/cloudspace/lib/python3.10/site-packages (from requests->huggingface-hub>=0.21.0->accelerate) (2024.8.30)\n",
      "Requirement already satisfied: mpmath<1.4,>=1.1.0 in /system/conda/miniconda3/envs/cloudspace/lib/python3.10/site-packages (from sympy->torch>=1.10.0->accelerate) (1.3.0)\n"
     ]
    }
   ],
   "source": [
    "!pip install accelerate"
   ]
  },
  {
   "cell_type": "code",
   "id": "initial_id",
   "metadata": {
    "ExecuteTime": {
     "end_time": "2024-09-16T10:34:01.617612Z",
     "start_time": "2024-09-16T10:34:01.612914Z"
    }
   },
   "source": [
    "import torch\n",
    "import os\n",
    "import json\n",
    "import time\n",
    "import re\n",
    "from PIL import Image, ImageDraw\n",
    "from transformers import Qwen2VLForConditionalGeneration, AutoProcessor\n",
    "from qwen_vl_utils import process_vision_info\n",
    "from collections import defaultdict\n"
   ],
   "outputs": [],
   "execution_count": 6
  },
  {
   "cell_type": "code",
   "id": "7698a201861b8546",
   "metadata": {
    "ExecuteTime": {
     "end_time": "2024-09-16T10:34:01.955417Z",
     "start_time": "2024-09-16T10:34:01.953195Z"
    }
   },
   "source": [
    "START = time.time()\n",
    "LOCAL_RUN = True\n",
    "\n",
    "if LOCAL_RUN:\n",
    "    IMAGE_PATH = 'images/'\n",
    "    INFERENCE_RESULTS = 'output/inference_results.json'\n",
    "else:\n",
    "    IMAGE_PATH = 'vlm-drones/images/'\n",
    "    INFERENCE_RESULTS = 'vlm-drones/output/inference_results.json'"
   ],
   "outputs": [],
   "execution_count": 7
  },
  {
   "cell_type": "code",
   "id": "9f5edf966658b15e",
   "metadata": {
    "ExecuteTime": {
     "end_time": "2024-09-16T10:34:02.339314Z",
     "start_time": "2024-09-16T10:34:02.336164Z"
    }
   },
   "source": [
    "if torch.backends.mps.is_available():\n",
    "    device = \"mps\"\n",
    "elif torch.cuda.is_available():\n",
    "    device = \"cuda\"\n",
    "else:\n",
    "    device = \"cpu\"\n",
    "\n",
    "print(device)"
   ],
   "outputs": [
    {
     "name": "stdout",
     "output_type": "stream",
     "text": [
      "mps\n"
     ]
    }
   ],
   "execution_count": 8
  },
  {
   "metadata": {},
   "cell_type": "markdown",
   "source": "# Aux functions",
   "id": "7afa65deed77a531"
  },
  {
   "metadata": {},
   "cell_type": "code",
   "outputs": [],
   "execution_count": null,
   "source": [
    "def draw_bounding_box(image_path, bbox):\n",
    "    image = Image.open(image_path)\n",
    "\n",
    "    img_width, img_height = image.size\n",
    "\n",
    "    center_x = bbox[0] * img_width\n",
    "    center_y = bbox[1] * img_height\n",
    "    width = bbox[2] * img_width\n",
    "    height = bbox[3] * img_height\n",
    "\n",
    "    top_left_x = int(center_x - (width / 2))\n",
    "    top_left_y = int(center_y - (height / 2))\n",
    "    bottom_right_x = int(center_x + (width / 2))\n",
    "    bottom_right_y = int(center_y + (height / 2))\n",
    "\n",
    "    draw = ImageDraw.Draw(image)\n",
    "    draw.rectangle([top_left_x, top_left_y, bottom_right_x, bottom_right_y], outline=\"red\", width=3)\n",
    "\n",
    "    return image"
   ],
   "id": "34753affb5213110"
  },
  {
   "metadata": {},
   "cell_type": "markdown",
   "source": "# Preprocess images",
   "id": "9e8e51b358e2bc3a"
  },
  {
   "metadata": {},
   "cell_type": "markdown",
   "source": "Check that all images have the same size, in this case 1024X1024.",
   "id": "62135c1492138b9c"
  },
  {
   "metadata": {
    "ExecuteTime": {
     "end_time": "2024-09-16T10:34:03.632959Z",
     "start_time": "2024-09-16T10:34:03.610823Z"
    }
   },
   "cell_type": "code",
   "source": [
    "image_sizes = []\n",
    "\n",
    "for filename in os.listdir(IMAGE_PATH):\n",
    "    filepath = os.path.join(IMAGE_PATH, filename)\n",
    "    if os.path.isfile(filepath):\n",
    "        try:\n",
    "            with Image.open(filepath) as img:\n",
    "                width, height = img.size\n",
    "                image_sizes.append((filename, (width, height)))\n",
    "        except Exception as e:\n",
    "            print(f\"Skipping file {filename}: {e}\")\n",
    "\n",
    "size_to_images = defaultdict(list)\n",
    "\n",
    "for filename, size in image_sizes:\n",
    "    size_to_images[size].append(filename)\n",
    "\n",
    "for size, files in size_to_images.items():\n",
    "    if len(files) > 1:\n",
    "        print(f\"Size {size} has {len(files)} images: {files}\")\n",
    "    else:\n",
    "        print(f\"Size {size} has 1 image: {files}\")"
   ],
   "id": "980fc8a0d5fcbacf",
   "outputs": [
    {
     "name": "stdout",
     "output_type": "stream",
     "text": [
      "Skipping file coordinates.json: cannot identify image file 'images/coordinates.json'\n",
      "Size (1024, 1024) has 403 images: ['img1005997.jpg', 'img1008257.jpg', 'img1008243.jpg', 'img1006285.jpg', 'img1005798.jpg', 'img1009834.jpg', 'img1048459.jpg', 'img1049747.jpg', 'img1008684.jpg', 'img1008451.jpg', 'img1008337.jpg', 'img1005834.jpg', 'img1005809.jpg', 'img1008450.jpg', 'img1006455.jpg', 'img1008685.jpg', 'img1008875.jpg', 'img1006131.jpg', 'img1048464.jpg', 'img1049746.jpg', 'img1048458.jpg', 'img1008281.jpg', 'img1005969.jpg', 'img1005766.jpg', 'img1008242.jpg', 'img1008256.jpg', 'img1006247.jpg', 'img1008268.jpg', 'img1006245.jpg', 'img1008240.jpg', 'img1005764.jpg', 'img1005770.jpg', 'img1008254.jpg', 'img1008283.jpg', 'img1049744.jpg', 'img1006047.jpg', 'img1049750.jpg', 'img1006127.jpg', 'img1008678.jpg', 'img1008888.jpg', 'img1008877.jpg', 'img1008687.jpg', 'img1006457.jpg', 'img1008452.jpg', 'img1008446.jpg', 'img1005837.jpg', 'img1008447.jpg', 'img1008453.jpg', 'img1008309.jpg', 'img1008686.jpg', 'img1008876.jpg', 'img1008889.jpg', 'img1008679.jpg', 'img1006085.jpg', 'img1008725.jpg', 'img1006046.jpg', 'img1049745.jpg', 'img1006052.jpg', 'img1009836.jpg', 'img1008282.jpg', 'img1008255.jpg', 'img1008241.jpg', 'img1005995.jpg', 'img1008269.jpg', 'img1008245.jpg', 'img1005761.jpg', 'img1008251.jpg', 'img1009167.jpg', 'img1005749.jpg', 'img1005991.jpg', 'img1048463.jpg', 'img1008709.jpg', 'img1006081.jpg', 'img1008682.jpg', 'img1008872.jpg', 'img1008866.jpg', 'img1005832.jpg', 'img1006491.jpg', 'img1005827.jpg', 'img1006453.jpg', 'img1008867.jpg', 'img1008873.jpg', 'img1008683.jpg', 'img1008708.jpg', 'img1006043.jpg', 'img1048462.jpg', 'img1006296.jpg', 'img1006241.jpg', 'img1009166.jpg', 'img1005984.jpg', 'img1008250.jpg', 'img1005760.jpg', 'img1008244.jpg', 'img1005776.jpg', 'img1008252.jpg', 'img1008246.jpg', 'img1005762.jpg', 'img1006257.jpg', 'img1008285.jpg', 'img1048460.jpg', 'img1008939.jpg', 'img1008681.jpg', 'img1008454.jpg', 'img1006451.jpg', 'img1007029.jpg', 'img1005830.jpg', 'img1007028.jpg', 'img1008455.jpg', 'img1008870.jpg', 'img1008680.jpg', 'img1006083.jpg', 'img1048461.jpg', 'img1008284.jpg', 'img1006256.jpg', 'img1005763.jpg', 'img1008247.jpg', 'img1008253.jpg', 'img1009670.jpg', 'img1006231.jpg', 'img1005923.jpg', 'img1007463.jpg', 'img1048406.jpg', 'img1008963.jpg', 'img1006635.jpg', 'img1008368.jpg', 'img1008426.jpg', 'img1008340.jpg', 'img1007098.jpg', 'img1009936.jpg', 'img1005671.jpg', 'img1008341.jpg', 'img1008962.jpg', 'img1048407.jpg', 'img1007462.jpg', 'img1005922.jpg', 'img1005739.jpg', 'img1009671.jpg', 'img1009667.jpg', 'img1006226.jpg', 'img1048405.jpg', 'img1008021.jpg', 'img1007460.jpg', 'img1048411.jpg', 'img1008960.jpg', 'img1008419.jpg', 'img1008343.jpg', 'img1005667.jpg', 'img1008425.jpg', 'img1007716.jpg', 'img1005868.jpg', 'img1009935.jpg', 'img1005869.jpg', 'img1005841.jpg', 'img1008342.jpg', 'img1008424.jpg', 'img1005672.jpg', 'img1005882.jpg', 'img1008418.jpg', 'img1007298.jpg', 'img1009504.jpg', 'img1008961.jpg', 'img1007461.jpg', 'img1048410.jpg', 'img1048404.jpg', 'img1005921.jpg', 'img1006227.jpg', 'img1006237.jpg', 'img1008959.jpg', 'img1007288.jpg', 'img1005676.jpg', 'img1008352.jpg', 'img1008420.jpg', 'img1008346.jpg', 'img1005662.jpg', 'img1005892.jpg', 'img1005886.jpg', 'img1005893.jpg', 'img1008421.jpg', 'img1005663.jpg', 'img1008347.jpg', 'img1007289.jpg', 'img1008964.jpg', 'img1008958.jpg', 'img1006020.jpg', 'img1008019.jpg', 'img1006034.jpg', 'img1007464.jpg', 'img1005924.jpg', 'img1006550.jpg', 'img1005729.jpg', 'img1048403.jpg', 'img1006036.jpg', 'img1008345.jpg', 'img1008423.jpg', 'img1008437.jpg', 'img1008351.jpg', 'img1005885.jpg', 'img1005884.jpg', 'img1008350.jpg', 'img1005674.jpg', 'img1008344.jpg', 'img1008422.jpg', 'img1048402.jpg', 'img1007132.jpg', 'img1005916.jpg', 'img1006012.jpg', 'img1008956.jpg', 'img1008942.jpg', 'img1007495.jpg', 'img1006172.jpg', 'img1010076.jpg', 'img1007293.jpg', 'img1007287.jpg', 'img1008349.jpg', 'img1005692.jpg', 'img1005687.jpg', 'img1008348.jpg', 'img1007286.jpg', 'img1007279.jpg', 'img1006615.jpg', 'img1007494.jpg', 'img1008943.jpg', 'img1008957.jpg', 'img1007866.jpg', 'img1005917.jpg', 'img1005724.jpg', 'img1007133.jpg', 'img1005915.jpg', 'img1007864.jpg', 'img1008955.jpg', 'img1007496.jpg', 'img1007284.jpg', 'img1007290.jpg', 'img1008438.jpg', 'img1005691.jpg', 'img1007285.jpg', 'img1006170.jpg', 'img1008954.jpg', 'img1008940.jpg', 'img1006038.jpg', 'img1007859.jpg', 'img1007865.jpg', 'img1009327.jpg', 'img1009333.jpg', 'img1048409.jpg', 'img1007493.jpg', 'img1008950.jpg', 'img1007281.jpg', 'img1007295.jpg', 'img1008415.jpg', 'img1005694.jpg', 'img1007097.jpg', 'img1007096.jpg', 'img1005695.jpg', 'img1008414.jpg', 'img1007294.jpg', 'img1007280.jpg', 'img1006613.jpg', 'img1008951.jpg', 'img1007492.jpg', 'img1048408.jpg', 'img1005905.jpg', 'img1005939.jpg', 'img1009668.jpg', 'img1005907.jpg', 'img1008953.jpg', 'img1007296.jpg', 'img1007282.jpg', 'img1008416.jpg', 'img1005683.jpg', 'img1005867.jpg', 'img1005682.jpg', 'img1005669.jpg', 'img1008417.jpg', 'img1007283.jpg', 'img1007297.jpg', 'img1008952.jpg', 'img1009641.jpg', 'img1009669.jpg', 'img1006273.jpg', 'img1005752.jpg', 'img1008262.jpg', 'img1005975.jpg', 'img1005961.jpg', 'img1006298.jpg', 'img1008712.jpg', 'img1008706.jpg', 'img1006924.jpg', 'img1008869.jpg', 'img1008458.jpg', 'img1007025.jpg', 'img1005829.jpg', 'img1005800.jpg', 'img1007024.jpg', 'img1007030.jpg', 'img1008303.jpg', 'img1009753.jpg', 'img1008459.jpg', 'img1008868.jpg', 'img1008883.jpg', 'img1006925.jpg', 'img1008707.jpg', 'img1008713.jpg', 'img1006058.jpg', 'img1006064.jpg', 'img1007839.jpg', 'img1008263.jpg', 'img1005747.jpg', 'img1007144.jpg', 'img1008249.jpg', 'img1008261.jpg', 'img1005751.jpg', 'img1008705.jpg', 'img1048453.jpg', 'img1008711.jpg', 'img1006927.jpg', 'img1008881.jpg', 'img1007026.jpg', 'img1008301.jpg', 'img1005816.jpg', 'img1005802.jpg', 'img1006489.jpg', 'img1008300.jpg', 'img1008314.jpg', 'img1007027.jpg', 'img1008328.jpg', 'img1006305.jpg', 'img1008880.jpg', 'img1006098.jpg', 'img1006926.jpg', 'img1008710.jpg', 'img1008704.jpg', 'img1005977.jpg', 'img1005963.jpg', 'img1008260.jpg', 'img1008248.jpg', 'img1005778.jpg', 'img1005740.jpg', 'img1008264.jpg', 'img1007143.jpg', 'img1008270.jpg', 'img1008258.jpg', 'img1006275.jpg', 'img1006507.jpg', 'img1005797.jpg', 'img1005967.jpg', 'img1008714.jpg', 'img1048456.jpg', 'img1049748.jpg', 'img1008890.jpg', 'img1007023.jpg', 'img1009754.jpg', 'img1006301.jpg', 'img1008338.jpg', 'img1005813.jpg', 'img1005812.jpg', 'img1008339.jpg', 'img1009755.jpg', 'img1008305.jpg', 'img1008311.jpg', 'img1007022.jpg', 'img1008891.jpg', 'img1006923.jpg', 'img1006062.jpg', 'img1049749.jpg', 'img1048457.jpg', 'img1008701.jpg', 'img1008259.jpg', 'img1008271.jpg', 'img1006248.jpg', 'img1008265.jpg', 'img1008267.jpg', 'img1006510.jpg', 'img1005794.jpg', 'img1008298.jpg', 'img1048455.jpg', 'img1008703.jpg', 'img1006048.jpg', 'img1008677.jpg', 'img1008887.jpg', 'img1008893.jpg', 'img1007020.jpg', 'img1008449.jpg', 'img1005838.jpg', 'img1005804.jpg', 'img1005810.jpg', 'img1005805.jpg', 'img1005839.jpg', 'img1008448.jpg', 'img1007021.jpg', 'img1006459.jpg', 'img1008460.jpg', 'img1008306.jpg', 'img1008892.jpg', 'img1008886.jpg', 'img1008676.jpg', 'img1008702.jpg', 'img1048454.jpg', 'img1008299.jpg', 'img1005965.jpg', 'img1005971.jpg', 'img1005795.jpg', 'img1008266.jpg']\n"
     ]
    }
   ],
   "execution_count": 9
  },
  {
   "metadata": {},
   "cell_type": "markdown",
   "source": "Resize all images to 1024x1024.",
   "id": "b0f56b053927af4e"
  },
  {
   "metadata": {
    "ExecuteTime": {
     "end_time": "2024-09-16T09:48:21.881410Z",
     "start_time": "2024-09-16T09:48:18.658495Z"
    }
   },
   "cell_type": "code",
   "source": [
    "with open(\"images/coordinates.json\", \"r\") as file:\n",
    "    coordinates = json.load(file)\n",
    "\n",
    "for image_name, bbox in coordinates.items():\n",
    "    \n",
    "    image_path = os.path.join(IMAGE_PATH, image_name)\n",
    "    image = Image.open(image_path)\n",
    "    \n",
    "    resized_image = image.resize((1024, 1024), Image.Resampling.LANCZOS)\n",
    "    \n",
    "    resized_image_path = os.path.join(IMAGE_PATH, image_name)\n",
    "    resized_image.save(resized_image_path)"
   ],
   "id": "861996abb85b930",
   "outputs": [
    {
     "name": "stdout",
     "output_type": "stream",
     "text": [
      "Images resized. No bounding box adjustments were necessary since they are in normalized units.\n"
     ]
    }
   ],
   "execution_count": 32
  },
  {
   "metadata": {},
   "cell_type": "markdown",
   "source": "# Load model",
   "id": "cc99e7d0d5a9ae3b"
  },
  {
   "cell_type": "code",
   "execution_count": 4,
   "id": "d8ae08d9",
   "metadata": {},
   "outputs": [
    {
     "name": "stderr",
     "output_type": "stream",
     "text": [
      "Unrecognized keys in `rope_scaling` for 'rope_type'='default': {'mrope_section'}\n",
      "`Qwen2VLRotaryEmbedding` can now be fully parameterized by passing the model config through the `config` argument. All other arguments will be removed in v4.46\n"
     ]
    },
    {
     "data": {
      "application/vnd.jupyter.widget-view+json": {
       "model_id": "41ee9f2c6f2c466a8dcc5d76a152f1c6",
       "version_major": 2,
       "version_minor": 0
      },
      "text/plain": [
       "Loading checkpoint shards:   0%|          | 0/5 [00:00<?, ?it/s]"
      ]
     },
     "metadata": {},
     "output_type": "display_data"
    },
    {
     "name": "stdout",
     "output_type": "stream",
     "text": [
      "Model loaded in 89.45604920387268 seconds\n"
     ]
    }
   ],
   "source": [
    "LOAD_MODEL = time.time()\n",
    "model = Qwen2VLForConditionalGeneration.from_pretrained(\n",
    "    \"Qwen/Qwen2-VL-7B-Instruct\", torch_dtype=\"auto\", device_map=\"auto\"\n",
    ")\n",
    "print(f\"Model loaded in {time.time() - LOAD_MODEL} seconds\")"
   ]
  },
  {
   "cell_type": "code",
   "execution_count": 5,
   "id": "a76d7f8f54abceae",
   "metadata": {},
   "outputs": [
    {
     "name": "stdout",
     "output_type": "stream",
     "text": [
      "Processor loaded in 0.5419559478759766 seconds\n"
     ]
    }
   ],
   "source": [
    "LOAD_PROCESSOR = time.time()\n",
    "processor = AutoProcessor.from_pretrained(\"Qwen/Qwen2-VL-7B-Instruct\")\n",
    "print(f\"Processor loaded in {time.time() - LOAD_PROCESSOR} seconds\")"
   ]
  },
  {
   "cell_type": "code",
   "execution_count": 6,
   "id": "458c95ebd07d0aa8",
   "metadata": {},
   "outputs": [],
   "source": [
    "def extract_coordinates(output_text):\n",
    "    coord_pattern = r'\\(([\\d\\.\\,\\s]+)\\)'\n",
    "    match = re.search(coord_pattern, output_text)\n",
    "    \n",
    "    if match:\n",
    "\n",
    "        coordinates = match.group(1).split(',')\n",
    "        coordinates = list(map(float, coordinates))\n",
    "        \n",
    "        if len(coordinates) == 4:\n",
    "            return coordinates\n",
    "        else:\n",
    "            return 0\n",
    "    else:\n",
    "        return 0"
   ]
  },
  {
   "metadata": {},
   "cell_type": "markdown",
   "source": "# Inference",
   "id": "424a60590c592964"
  },
  {
   "cell_type": "code",
   "execution_count": 15,
   "id": "47d6ed84",
   "metadata": {},
   "outputs": [],
   "source": [
    "def process_images(data_directory):\n",
    "    prompt = \"Detect drones in the image. If a drone is detected, return only the bounding box coordinates normalized between 0 and 1, in the format (x, y, w, h), where (x, y) is the top-left corner of the bounding box relative to the image dimensions, and w and h are the width and height relative to the image dimensions. No other text or information; only the coordinates.\"\n",
    "    results_dict = {}\n",
    "    quantity = len(os.listdir(data_directory))\n",
    "\n",
    "    for filename in os.listdir(data_directory):\n",
    "        if filename.endswith('.jpg'):\n",
    "\n",
    "            image_path = os.path.join(data_directory, filename)\n",
    "\n",
    "            messages = [\n",
    "                {\n",
    "                    \"role\": \"user\",\n",
    "                    \"content\": [\n",
    "                        {\"type\": \"image\", \"image\": f\"file://{image_path}\"},\n",
    "                        {\"type\": \"text\", \"text\": prompt},\n",
    "                    ],\n",
    "                }\n",
    "            ]\n",
    "\n",
    "            text = processor.apply_chat_template(messages, tokenize=False, add_generation_prompt=True)\n",
    "            image_inputs, video_inputs = process_vision_info(messages)\n",
    "            inputs = processor(\n",
    "                text=[text],\n",
    "                images=image_inputs,\n",
    "                videos=video_inputs,\n",
    "                padding=True,\n",
    "                return_tensors=\"pt\",\n",
    "            )\n",
    "            inputs = inputs.to(device)\n",
    "\n",
    "            with torch.no_grad():\n",
    "                generated_ids = model.generate(**inputs, max_new_tokens=64)\n",
    "                generated_ids_trimmed = [\n",
    "                    out_ids[len(in_ids):] for in_ids, out_ids in zip(inputs.input_ids, generated_ids)\n",
    "                ]\n",
    "                output_text = processor.batch_decode(\n",
    "                    generated_ids_trimmed, skip_special_tokens=True, clean_up_tokenization_spaces=False\n",
    "                )[0]\n",
    "\n",
    "            quantity -= 1\n",
    "            print(f\"Pending to process {quantity}\")\n",
    "            \n",
    "            output_text_parse = extract_coordinates(output_text)\n",
    "\n",
    "            results_dict[filename] = {\n",
    "                \"Inference\": output_text_parse\n",
    "            }\n",
    "\n",
    "            torch.cuda.empty_cache()\n",
    "\n",
    "    print(results_dict)\n",
    "    with open(INFERENCE_RESULTS, 'w') as json_file:\n",
    "        json.dump(results_dict, json_file, indent=4)"
   ]
  },
  {
   "cell_type": "code",
   "execution_count": 16,
   "id": "78d81132",
   "metadata": {},
   "outputs": [
    {
     "name": "stdout",
     "output_type": "stream",
     "text": [
      "Pending to process 404\n",
      "Pending to process 403\n",
      "Pending to process 402\n",
      "Pending to process 401\n",
      "Pending to process 400\n",
      "Pending to process 399\n",
      "Pending to process 398\n",
      "Pending to process 397\n",
      "Pending to process 396\n",
      "Pending to process 395\n",
      "Pending to process 394\n",
      "Pending to process 393\n",
      "Pending to process 392\n",
      "Pending to process 391\n",
      "Pending to process 390\n",
      "Pending to process 389\n",
      "Pending to process 388\n",
      "Pending to process 387\n",
      "Pending to process 386\n",
      "Pending to process 385\n",
      "Pending to process 384\n",
      "Pending to process 383\n",
      "Pending to process 382\n",
      "Pending to process 381\n",
      "Pending to process 380\n",
      "Pending to process 379\n",
      "Pending to process 378\n",
      "Pending to process 377\n",
      "Pending to process 376\n",
      "Pending to process 375\n",
      "Pending to process 374\n",
      "Pending to process 373\n",
      "Pending to process 372\n",
      "Pending to process 371\n",
      "Pending to process 370\n",
      "Pending to process 369\n",
      "Pending to process 368\n",
      "Pending to process 367\n",
      "Pending to process 366\n",
      "Pending to process 365\n",
      "Pending to process 364\n",
      "Pending to process 363\n",
      "Pending to process 362\n",
      "Pending to process 361\n",
      "Pending to process 360\n",
      "Pending to process 359\n",
      "Pending to process 358\n",
      "Pending to process 357\n",
      "Pending to process 356\n",
      "Pending to process 355\n",
      "Pending to process 354\n",
      "Pending to process 353\n",
      "Pending to process 352\n",
      "Pending to process 351\n",
      "Pending to process 350\n",
      "Pending to process 349\n",
      "Pending to process 348\n",
      "Pending to process 347\n",
      "Pending to process 346\n",
      "Pending to process 345\n",
      "Pending to process 344\n",
      "Pending to process 343\n",
      "Pending to process 342\n",
      "Pending to process 341\n",
      "Pending to process 340\n",
      "Pending to process 339\n",
      "Pending to process 338\n",
      "Pending to process 337\n",
      "Pending to process 336\n",
      "Pending to process 335\n",
      "Pending to process 334\n",
      "Pending to process 333\n",
      "Pending to process 332\n",
      "Pending to process 331\n",
      "Pending to process 330\n",
      "Pending to process 329\n",
      "Pending to process 328\n",
      "Pending to process 327\n",
      "Pending to process 326\n",
      "Pending to process 325\n",
      "Pending to process 324\n",
      "Pending to process 323\n",
      "Pending to process 322\n",
      "Pending to process 321\n",
      "Pending to process 320\n",
      "Pending to process 319\n",
      "Pending to process 318\n",
      "Pending to process 317\n",
      "Pending to process 316\n",
      "Pending to process 315\n",
      "Pending to process 314\n",
      "Pending to process 313\n",
      "Pending to process 312\n",
      "Pending to process 311\n",
      "Pending to process 310\n",
      "Pending to process 309\n",
      "Pending to process 308\n",
      "Pending to process 307\n",
      "Pending to process 306\n",
      "Pending to process 305\n",
      "Pending to process 304\n",
      "Pending to process 303\n",
      "Pending to process 302\n",
      "Pending to process 301\n",
      "Pending to process 300\n",
      "Pending to process 299\n",
      "Pending to process 298\n",
      "Pending to process 297\n",
      "Pending to process 296\n",
      "Pending to process 295\n",
      "Pending to process 294\n",
      "Pending to process 293\n",
      "Pending to process 292\n",
      "Pending to process 291\n",
      "Pending to process 290\n",
      "Pending to process 289\n",
      "Pending to process 288\n",
      "Pending to process 287\n",
      "Pending to process 286\n",
      "Pending to process 285\n",
      "Pending to process 284\n",
      "Pending to process 283\n",
      "Pending to process 282\n",
      "Pending to process 281\n",
      "Pending to process 280\n",
      "Pending to process 279\n",
      "Pending to process 278\n",
      "Pending to process 277\n",
      "Pending to process 276\n",
      "Pending to process 275\n",
      "Pending to process 274\n",
      "Pending to process 273\n",
      "Pending to process 272\n",
      "Pending to process 271\n",
      "Pending to process 270\n",
      "Pending to process 269\n",
      "Pending to process 268\n",
      "Pending to process 267\n",
      "Pending to process 266\n",
      "Pending to process 265\n",
      "Pending to process 264\n",
      "Pending to process 263\n",
      "Pending to process 262\n",
      "Pending to process 261\n",
      "Pending to process 260\n",
      "Pending to process 259\n",
      "Pending to process 258\n",
      "Pending to process 257\n",
      "Pending to process 256\n",
      "Pending to process 255\n",
      "Pending to process 254\n",
      "Pending to process 253\n",
      "Pending to process 252\n",
      "Pending to process 251\n",
      "Pending to process 250\n",
      "Pending to process 249\n",
      "Pending to process 248\n",
      "Pending to process 247\n",
      "Pending to process 246\n",
      "Pending to process 245\n",
      "Pending to process 244\n",
      "Pending to process 243\n",
      "Pending to process 242\n",
      "Pending to process 241\n",
      "Pending to process 240\n",
      "Pending to process 239\n",
      "Pending to process 238\n",
      "Pending to process 237\n",
      "Pending to process 236\n",
      "Pending to process 235\n",
      "Pending to process 234\n",
      "Pending to process 233\n",
      "Pending to process 232\n",
      "Pending to process 231\n",
      "Pending to process 230\n",
      "Pending to process 229\n",
      "Pending to process 228\n",
      "Pending to process 227\n",
      "Pending to process 226\n",
      "Pending to process 225\n",
      "Pending to process 224\n",
      "Pending to process 223\n",
      "Pending to process 222\n",
      "Pending to process 221\n",
      "Pending to process 220\n",
      "Pending to process 219\n",
      "Pending to process 218\n",
      "Pending to process 217\n",
      "Pending to process 216\n",
      "Pending to process 215\n",
      "Pending to process 214\n",
      "Pending to process 213\n",
      "Pending to process 212\n",
      "Pending to process 211\n",
      "Pending to process 210\n",
      "Pending to process 209\n",
      "Pending to process 208\n",
      "Pending to process 207\n",
      "Pending to process 206\n",
      "Pending to process 205\n",
      "Pending to process 204\n",
      "Pending to process 203\n",
      "Pending to process 202\n",
      "Pending to process 201\n",
      "Pending to process 200\n",
      "Pending to process 199\n",
      "Pending to process 198\n",
      "Pending to process 197\n",
      "Pending to process 196\n",
      "Pending to process 195\n",
      "Pending to process 194\n",
      "Pending to process 193\n",
      "Pending to process 192\n",
      "Pending to process 191\n",
      "Pending to process 190\n",
      "Pending to process 189\n",
      "Pending to process 188\n",
      "Pending to process 187\n",
      "Pending to process 186\n",
      "Pending to process 185\n",
      "Pending to process 184\n",
      "Pending to process 183\n",
      "Pending to process 182\n",
      "Pending to process 181\n",
      "Pending to process 180\n",
      "Pending to process 179\n",
      "Pending to process 178\n",
      "Pending to process 177\n",
      "Pending to process 176\n",
      "Pending to process 175\n",
      "Pending to process 174\n",
      "Pending to process 173\n",
      "Pending to process 172\n",
      "Pending to process 171\n",
      "Pending to process 170\n",
      "Pending to process 169\n",
      "Pending to process 168\n",
      "Pending to process 167\n",
      "Pending to process 166\n",
      "Pending to process 165\n",
      "Pending to process 164\n",
      "Pending to process 163\n",
      "Pending to process 162\n",
      "Pending to process 161\n",
      "Pending to process 160\n",
      "Pending to process 159\n",
      "Pending to process 158\n",
      "Pending to process 157\n",
      "Pending to process 156\n",
      "Pending to process 155\n",
      "Pending to process 154\n",
      "Pending to process 153\n",
      "Pending to process 152\n",
      "Pending to process 151\n",
      "Pending to process 150\n",
      "Pending to process 149\n",
      "Pending to process 148\n",
      "Pending to process 147\n",
      "Pending to process 146\n",
      "Pending to process 145\n",
      "Pending to process 144\n",
      "Pending to process 143\n",
      "Pending to process 142\n",
      "Pending to process 141\n",
      "Pending to process 140\n",
      "Pending to process 139\n",
      "Pending to process 138\n",
      "Pending to process 137\n",
      "Pending to process 136\n",
      "Pending to process 135\n",
      "Pending to process 134\n",
      "Pending to process 133\n",
      "Pending to process 132\n",
      "Pending to process 131\n",
      "Pending to process 130\n",
      "Pending to process 129\n",
      "Pending to process 128\n",
      "Pending to process 127\n",
      "Pending to process 126\n",
      "Pending to process 125\n",
      "Pending to process 124\n",
      "Pending to process 123\n",
      "Pending to process 122\n",
      "Pending to process 121\n",
      "Pending to process 120\n",
      "Pending to process 119\n",
      "Pending to process 118\n",
      "Pending to process 117\n",
      "Pending to process 116\n",
      "Pending to process 115\n",
      "Pending to process 114\n",
      "Pending to process 113\n",
      "Pending to process 112\n",
      "Pending to process 111\n",
      "Pending to process 110\n",
      "Pending to process 109\n",
      "Pending to process 108\n",
      "Pending to process 107\n",
      "Pending to process 106\n",
      "Pending to process 105\n",
      "Pending to process 104\n",
      "Pending to process 103\n",
      "Pending to process 102\n",
      "Pending to process 101\n",
      "Pending to process 100\n",
      "Pending to process 99\n",
      "Pending to process 98\n",
      "Pending to process 97\n",
      "Pending to process 96\n",
      "Pending to process 95\n",
      "Pending to process 94\n",
      "Pending to process 93\n",
      "Pending to process 92\n",
      "Pending to process 91\n",
      "Pending to process 90\n",
      "Pending to process 89\n",
      "Pending to process 88\n",
      "Pending to process 87\n",
      "Pending to process 86\n",
      "Pending to process 85\n",
      "Pending to process 84\n",
      "Pending to process 83\n",
      "Pending to process 82\n",
      "Pending to process 81\n",
      "Pending to process 80\n",
      "Pending to process 79\n",
      "Pending to process 78\n",
      "Pending to process 77\n",
      "Pending to process 76\n",
      "Pending to process 75\n",
      "Pending to process 74\n",
      "Pending to process 73\n",
      "Pending to process 72\n",
      "Pending to process 71\n",
      "Pending to process 70\n",
      "Pending to process 69\n",
      "Pending to process 68\n",
      "Pending to process 67\n",
      "Pending to process 66\n",
      "Pending to process 65\n",
      "Pending to process 64\n",
      "Pending to process 63\n",
      "Pending to process 62\n",
      "Pending to process 61\n",
      "Pending to process 60\n",
      "Pending to process 59\n",
      "Pending to process 58\n",
      "Pending to process 57\n",
      "Pending to process 56\n",
      "Pending to process 55\n",
      "Pending to process 54\n",
      "Pending to process 53\n",
      "Pending to process 52\n",
      "Pending to process 51\n",
      "Pending to process 50\n",
      "Pending to process 49\n",
      "Pending to process 48\n",
      "Pending to process 47\n",
      "Pending to process 46\n",
      "Pending to process 45\n",
      "Pending to process 44\n",
      "Pending to process 43\n",
      "Pending to process 42\n",
      "Pending to process 41\n",
      "Pending to process 40\n",
      "Pending to process 39\n",
      "Pending to process 38\n",
      "Pending to process 37\n",
      "Pending to process 36\n",
      "Pending to process 35\n",
      "Pending to process 34\n",
      "Pending to process 33\n",
      "Pending to process 32\n",
      "Pending to process 31\n",
      "Pending to process 30\n",
      "Pending to process 29\n",
      "Pending to process 28\n",
      "Pending to process 27\n",
      "Pending to process 26\n",
      "Pending to process 25\n",
      "Pending to process 24\n",
      "Pending to process 23\n",
      "Pending to process 22\n",
      "Pending to process 21\n",
      "Pending to process 20\n",
      "Pending to process 19\n",
      "Pending to process 18\n",
      "Pending to process 17\n",
      "Pending to process 16\n",
      "Pending to process 15\n",
      "Pending to process 14\n",
      "Pending to process 13\n",
      "Pending to process 12\n",
      "Pending to process 11\n",
      "Pending to process 10\n",
      "Pending to process 9\n"
     ]
    },
    {
     "ename": "OutOfMemoryError",
     "evalue": "CUDA out of memory. Tried to allocate 60.27 GiB. GPU 0 has a total capacity of 44.53 GiB of which 17.99 GiB is free. Process 33165 has 26.54 GiB memory in use. Of the allocated memory 25.50 GiB is allocated by PyTorch, and 536.59 MiB is reserved by PyTorch but unallocated. If reserved but unallocated memory is large try setting PYTORCH_CUDA_ALLOC_CONF=expandable_segments:True to avoid fragmentation.  See documentation for Memory Management  (https://pytorch.org/docs/stable/notes/cuda.html#environment-variables)",
     "output_type": "error",
     "traceback": [
      "\u001B[0;31m---------------------------------------------------------------------------\u001B[0m",
      "\u001B[0;31mOutOfMemoryError\u001B[0m                          Traceback (most recent call last)",
      "Cell \u001B[0;32mIn[16], line 2\u001B[0m\n\u001B[1;32m      1\u001B[0m PROCESS_IMAGES \u001B[38;5;241m=\u001B[39m time\u001B[38;5;241m.\u001B[39mtime()\n\u001B[0;32m----> 2\u001B[0m \u001B[43mprocess_images\u001B[49m\u001B[43m(\u001B[49m\u001B[43mIMAGE_PATH\u001B[49m\u001B[43m)\u001B[49m\n\u001B[1;32m      3\u001B[0m \u001B[38;5;28mprint\u001B[39m(\u001B[38;5;124mf\u001B[39m\u001B[38;5;124m\"\u001B[39m\u001B[38;5;124mImages processed in \u001B[39m\u001B[38;5;132;01m{\u001B[39;00mtime\u001B[38;5;241m.\u001B[39mtime()\u001B[38;5;250m \u001B[39m\u001B[38;5;241m-\u001B[39m\u001B[38;5;250m \u001B[39mPROCESS_IMAGES\u001B[38;5;132;01m}\u001B[39;00m\u001B[38;5;124m seconds\u001B[39m\u001B[38;5;124m\"\u001B[39m)\n",
      "Cell \u001B[0;32mIn[15], line 33\u001B[0m, in \u001B[0;36mprocess_images\u001B[0;34m(data_directory)\u001B[0m\n\u001B[1;32m     30\u001B[0m inputs \u001B[38;5;241m=\u001B[39m inputs\u001B[38;5;241m.\u001B[39mto(device)\n\u001B[1;32m     32\u001B[0m \u001B[38;5;28;01mwith\u001B[39;00m torch\u001B[38;5;241m.\u001B[39mno_grad():\n\u001B[0;32m---> 33\u001B[0m     generated_ids \u001B[38;5;241m=\u001B[39m \u001B[43mmodel\u001B[49m\u001B[38;5;241;43m.\u001B[39;49m\u001B[43mgenerate\u001B[49m\u001B[43m(\u001B[49m\u001B[38;5;241;43m*\u001B[39;49m\u001B[38;5;241;43m*\u001B[39;49m\u001B[43minputs\u001B[49m\u001B[43m,\u001B[49m\u001B[43m \u001B[49m\u001B[43mmax_new_tokens\u001B[49m\u001B[38;5;241;43m=\u001B[39;49m\u001B[38;5;241;43m64\u001B[39;49m\u001B[43m)\u001B[49m\n\u001B[1;32m     34\u001B[0m     generated_ids_trimmed \u001B[38;5;241m=\u001B[39m [\n\u001B[1;32m     35\u001B[0m         out_ids[\u001B[38;5;28mlen\u001B[39m(in_ids):] \u001B[38;5;28;01mfor\u001B[39;00m in_ids, out_ids \u001B[38;5;129;01min\u001B[39;00m \u001B[38;5;28mzip\u001B[39m(inputs\u001B[38;5;241m.\u001B[39minput_ids, generated_ids)\n\u001B[1;32m     36\u001B[0m     ]\n\u001B[1;32m     37\u001B[0m     output_text \u001B[38;5;241m=\u001B[39m processor\u001B[38;5;241m.\u001B[39mbatch_decode(\n\u001B[1;32m     38\u001B[0m         generated_ids_trimmed, skip_special_tokens\u001B[38;5;241m=\u001B[39m\u001B[38;5;28;01mTrue\u001B[39;00m, clean_up_tokenization_spaces\u001B[38;5;241m=\u001B[39m\u001B[38;5;28;01mFalse\u001B[39;00m\n\u001B[1;32m     39\u001B[0m     )[\u001B[38;5;241m0\u001B[39m]\n",
      "File \u001B[0;32m/home/zeus/miniconda3/envs/cloudspace/lib/python3.10/site-packages/torch/utils/_contextlib.py:115\u001B[0m, in \u001B[0;36mcontext_decorator.<locals>.decorate_context\u001B[0;34m(*args, **kwargs)\u001B[0m\n\u001B[1;32m    112\u001B[0m \u001B[38;5;129m@functools\u001B[39m\u001B[38;5;241m.\u001B[39mwraps(func)\n\u001B[1;32m    113\u001B[0m \u001B[38;5;28;01mdef\u001B[39;00m \u001B[38;5;21mdecorate_context\u001B[39m(\u001B[38;5;241m*\u001B[39margs, \u001B[38;5;241m*\u001B[39m\u001B[38;5;241m*\u001B[39mkwargs):\n\u001B[1;32m    114\u001B[0m     \u001B[38;5;28;01mwith\u001B[39;00m ctx_factory():\n\u001B[0;32m--> 115\u001B[0m         \u001B[38;5;28;01mreturn\u001B[39;00m \u001B[43mfunc\u001B[49m\u001B[43m(\u001B[49m\u001B[38;5;241;43m*\u001B[39;49m\u001B[43margs\u001B[49m\u001B[43m,\u001B[49m\u001B[43m \u001B[49m\u001B[38;5;241;43m*\u001B[39;49m\u001B[38;5;241;43m*\u001B[39;49m\u001B[43mkwargs\u001B[49m\u001B[43m)\u001B[49m\n",
      "File \u001B[0;32m/home/zeus/miniconda3/envs/cloudspace/lib/python3.10/site-packages/transformers/generation/utils.py:2050\u001B[0m, in \u001B[0;36mGenerationMixin.generate\u001B[0;34m(self, inputs, generation_config, logits_processor, stopping_criteria, prefix_allowed_tokens_fn, synced_gpus, assistant_model, streamer, negative_prompt_ids, negative_prompt_attention_mask, **kwargs)\u001B[0m\n\u001B[1;32m   2042\u001B[0m     input_ids, model_kwargs \u001B[38;5;241m=\u001B[39m \u001B[38;5;28mself\u001B[39m\u001B[38;5;241m.\u001B[39m_expand_inputs_for_generation(\n\u001B[1;32m   2043\u001B[0m         input_ids\u001B[38;5;241m=\u001B[39minput_ids,\n\u001B[1;32m   2044\u001B[0m         expand_size\u001B[38;5;241m=\u001B[39mgeneration_config\u001B[38;5;241m.\u001B[39mnum_return_sequences,\n\u001B[1;32m   2045\u001B[0m         is_encoder_decoder\u001B[38;5;241m=\u001B[39m\u001B[38;5;28mself\u001B[39m\u001B[38;5;241m.\u001B[39mconfig\u001B[38;5;241m.\u001B[39mis_encoder_decoder,\n\u001B[1;32m   2046\u001B[0m         \u001B[38;5;241m*\u001B[39m\u001B[38;5;241m*\u001B[39mmodel_kwargs,\n\u001B[1;32m   2047\u001B[0m     )\n\u001B[1;32m   2049\u001B[0m     \u001B[38;5;66;03m# 12. run sample (it degenerates to greedy search when `generation_config.do_sample=False`)\u001B[39;00m\n\u001B[0;32m-> 2050\u001B[0m     result \u001B[38;5;241m=\u001B[39m \u001B[38;5;28;43mself\u001B[39;49m\u001B[38;5;241;43m.\u001B[39;49m\u001B[43m_sample\u001B[49m\u001B[43m(\u001B[49m\n\u001B[1;32m   2051\u001B[0m \u001B[43m        \u001B[49m\u001B[43minput_ids\u001B[49m\u001B[43m,\u001B[49m\n\u001B[1;32m   2052\u001B[0m \u001B[43m        \u001B[49m\u001B[43mlogits_processor\u001B[49m\u001B[38;5;241;43m=\u001B[39;49m\u001B[43mprepared_logits_processor\u001B[49m\u001B[43m,\u001B[49m\n\u001B[1;32m   2053\u001B[0m \u001B[43m        \u001B[49m\u001B[43mstopping_criteria\u001B[49m\u001B[38;5;241;43m=\u001B[39;49m\u001B[43mprepared_stopping_criteria\u001B[49m\u001B[43m,\u001B[49m\n\u001B[1;32m   2054\u001B[0m \u001B[43m        \u001B[49m\u001B[43mgeneration_config\u001B[49m\u001B[38;5;241;43m=\u001B[39;49m\u001B[43mgeneration_config\u001B[49m\u001B[43m,\u001B[49m\n\u001B[1;32m   2055\u001B[0m \u001B[43m        \u001B[49m\u001B[43msynced_gpus\u001B[49m\u001B[38;5;241;43m=\u001B[39;49m\u001B[43msynced_gpus\u001B[49m\u001B[43m,\u001B[49m\n\u001B[1;32m   2056\u001B[0m \u001B[43m        \u001B[49m\u001B[43mstreamer\u001B[49m\u001B[38;5;241;43m=\u001B[39;49m\u001B[43mstreamer\u001B[49m\u001B[43m,\u001B[49m\n\u001B[1;32m   2057\u001B[0m \u001B[43m        \u001B[49m\u001B[38;5;241;43m*\u001B[39;49m\u001B[38;5;241;43m*\u001B[39;49m\u001B[43mmodel_kwargs\u001B[49m\u001B[43m,\u001B[49m\n\u001B[1;32m   2058\u001B[0m \u001B[43m    \u001B[49m\u001B[43m)\u001B[49m\n\u001B[1;32m   2060\u001B[0m \u001B[38;5;28;01melif\u001B[39;00m generation_mode \u001B[38;5;129;01min\u001B[39;00m (GenerationMode\u001B[38;5;241m.\u001B[39mBEAM_SAMPLE, GenerationMode\u001B[38;5;241m.\u001B[39mBEAM_SEARCH):\n\u001B[1;32m   2061\u001B[0m     \u001B[38;5;66;03m# 11. prepare beam search scorer\u001B[39;00m\n\u001B[1;32m   2062\u001B[0m     beam_scorer \u001B[38;5;241m=\u001B[39m BeamSearchScorer(\n\u001B[1;32m   2063\u001B[0m         batch_size\u001B[38;5;241m=\u001B[39mbatch_size,\n\u001B[1;32m   2064\u001B[0m         num_beams\u001B[38;5;241m=\u001B[39mgeneration_config\u001B[38;5;241m.\u001B[39mnum_beams,\n\u001B[0;32m   (...)\u001B[0m\n\u001B[1;32m   2069\u001B[0m         max_length\u001B[38;5;241m=\u001B[39mgeneration_config\u001B[38;5;241m.\u001B[39mmax_length,\n\u001B[1;32m   2070\u001B[0m     )\n",
      "File \u001B[0;32m/home/zeus/miniconda3/envs/cloudspace/lib/python3.10/site-packages/transformers/generation/utils.py:3000\u001B[0m, in \u001B[0;36mGenerationMixin._sample\u001B[0;34m(self, input_ids, logits_processor, stopping_criteria, generation_config, synced_gpus, streamer, **model_kwargs)\u001B[0m\n\u001B[1;32m   2997\u001B[0m model_inputs\u001B[38;5;241m.\u001B[39mupdate({\u001B[38;5;124m\"\u001B[39m\u001B[38;5;124moutput_hidden_states\u001B[39m\u001B[38;5;124m\"\u001B[39m: output_hidden_states} \u001B[38;5;28;01mif\u001B[39;00m output_hidden_states \u001B[38;5;28;01melse\u001B[39;00m {})\n\u001B[1;32m   2999\u001B[0m \u001B[38;5;66;03m# forward pass to get next token\u001B[39;00m\n\u001B[0;32m-> 3000\u001B[0m outputs \u001B[38;5;241m=\u001B[39m \u001B[38;5;28;43mself\u001B[39;49m\u001B[43m(\u001B[49m\u001B[38;5;241;43m*\u001B[39;49m\u001B[38;5;241;43m*\u001B[39;49m\u001B[43mmodel_inputs\u001B[49m\u001B[43m,\u001B[49m\u001B[43m \u001B[49m\u001B[43mreturn_dict\u001B[49m\u001B[38;5;241;43m=\u001B[39;49m\u001B[38;5;28;43;01mTrue\u001B[39;49;00m\u001B[43m)\u001B[49m\n\u001B[1;32m   3002\u001B[0m \u001B[38;5;28;01mif\u001B[39;00m synced_gpus \u001B[38;5;129;01mand\u001B[39;00m this_peer_finished:\n\u001B[1;32m   3003\u001B[0m     \u001B[38;5;28;01mcontinue\u001B[39;00m  \u001B[38;5;66;03m# don't waste resources running the code we don't need\u001B[39;00m\n",
      "File \u001B[0;32m/home/zeus/miniconda3/envs/cloudspace/lib/python3.10/site-packages/torch/nn/modules/module.py:1511\u001B[0m, in \u001B[0;36mModule._wrapped_call_impl\u001B[0;34m(self, *args, **kwargs)\u001B[0m\n\u001B[1;32m   1509\u001B[0m     \u001B[38;5;28;01mreturn\u001B[39;00m \u001B[38;5;28mself\u001B[39m\u001B[38;5;241m.\u001B[39m_compiled_call_impl(\u001B[38;5;241m*\u001B[39margs, \u001B[38;5;241m*\u001B[39m\u001B[38;5;241m*\u001B[39mkwargs)  \u001B[38;5;66;03m# type: ignore[misc]\u001B[39;00m\n\u001B[1;32m   1510\u001B[0m \u001B[38;5;28;01melse\u001B[39;00m:\n\u001B[0;32m-> 1511\u001B[0m     \u001B[38;5;28;01mreturn\u001B[39;00m \u001B[38;5;28;43mself\u001B[39;49m\u001B[38;5;241;43m.\u001B[39;49m\u001B[43m_call_impl\u001B[49m\u001B[43m(\u001B[49m\u001B[38;5;241;43m*\u001B[39;49m\u001B[43margs\u001B[49m\u001B[43m,\u001B[49m\u001B[43m \u001B[49m\u001B[38;5;241;43m*\u001B[39;49m\u001B[38;5;241;43m*\u001B[39;49m\u001B[43mkwargs\u001B[49m\u001B[43m)\u001B[49m\n",
      "File \u001B[0;32m/home/zeus/miniconda3/envs/cloudspace/lib/python3.10/site-packages/torch/nn/modules/module.py:1520\u001B[0m, in \u001B[0;36mModule._call_impl\u001B[0;34m(self, *args, **kwargs)\u001B[0m\n\u001B[1;32m   1515\u001B[0m \u001B[38;5;66;03m# If we don't have any hooks, we want to skip the rest of the logic in\u001B[39;00m\n\u001B[1;32m   1516\u001B[0m \u001B[38;5;66;03m# this function, and just call forward.\u001B[39;00m\n\u001B[1;32m   1517\u001B[0m \u001B[38;5;28;01mif\u001B[39;00m \u001B[38;5;129;01mnot\u001B[39;00m (\u001B[38;5;28mself\u001B[39m\u001B[38;5;241m.\u001B[39m_backward_hooks \u001B[38;5;129;01mor\u001B[39;00m \u001B[38;5;28mself\u001B[39m\u001B[38;5;241m.\u001B[39m_backward_pre_hooks \u001B[38;5;129;01mor\u001B[39;00m \u001B[38;5;28mself\u001B[39m\u001B[38;5;241m.\u001B[39m_forward_hooks \u001B[38;5;129;01mor\u001B[39;00m \u001B[38;5;28mself\u001B[39m\u001B[38;5;241m.\u001B[39m_forward_pre_hooks\n\u001B[1;32m   1518\u001B[0m         \u001B[38;5;129;01mor\u001B[39;00m _global_backward_pre_hooks \u001B[38;5;129;01mor\u001B[39;00m _global_backward_hooks\n\u001B[1;32m   1519\u001B[0m         \u001B[38;5;129;01mor\u001B[39;00m _global_forward_hooks \u001B[38;5;129;01mor\u001B[39;00m _global_forward_pre_hooks):\n\u001B[0;32m-> 1520\u001B[0m     \u001B[38;5;28;01mreturn\u001B[39;00m \u001B[43mforward_call\u001B[49m\u001B[43m(\u001B[49m\u001B[38;5;241;43m*\u001B[39;49m\u001B[43margs\u001B[49m\u001B[43m,\u001B[49m\u001B[43m \u001B[49m\u001B[38;5;241;43m*\u001B[39;49m\u001B[38;5;241;43m*\u001B[39;49m\u001B[43mkwargs\u001B[49m\u001B[43m)\u001B[49m\n\u001B[1;32m   1522\u001B[0m \u001B[38;5;28;01mtry\u001B[39;00m:\n\u001B[1;32m   1523\u001B[0m     result \u001B[38;5;241m=\u001B[39m \u001B[38;5;28;01mNone\u001B[39;00m\n",
      "File \u001B[0;32m/home/zeus/miniconda3/envs/cloudspace/lib/python3.10/site-packages/transformers/models/qwen2_vl/modeling_qwen2_vl.py:1683\u001B[0m, in \u001B[0;36mQwen2VLForConditionalGeneration.forward\u001B[0;34m(self, input_ids, attention_mask, position_ids, past_key_values, inputs_embeds, labels, use_cache, output_attentions, output_hidden_states, return_dict, pixel_values, pixel_values_videos, image_grid_thw, video_grid_thw, rope_deltas)\u001B[0m\n\u001B[1;32m   1681\u001B[0m \u001B[38;5;28;01mif\u001B[39;00m pixel_values \u001B[38;5;129;01mis\u001B[39;00m \u001B[38;5;129;01mnot\u001B[39;00m \u001B[38;5;28;01mNone\u001B[39;00m:\n\u001B[1;32m   1682\u001B[0m     pixel_values \u001B[38;5;241m=\u001B[39m pixel_values\u001B[38;5;241m.\u001B[39mtype(\u001B[38;5;28mself\u001B[39m\u001B[38;5;241m.\u001B[39mvisual\u001B[38;5;241m.\u001B[39mget_dtype())\n\u001B[0;32m-> 1683\u001B[0m     image_embeds \u001B[38;5;241m=\u001B[39m \u001B[38;5;28;43mself\u001B[39;49m\u001B[38;5;241;43m.\u001B[39;49m\u001B[43mvisual\u001B[49m\u001B[43m(\u001B[49m\u001B[43mpixel_values\u001B[49m\u001B[43m,\u001B[49m\u001B[43m \u001B[49m\u001B[43mgrid_thw\u001B[49m\u001B[38;5;241;43m=\u001B[39;49m\u001B[43mimage_grid_thw\u001B[49m\u001B[43m)\u001B[49m\u001B[38;5;241m.\u001B[39mto(inputs_embeds\u001B[38;5;241m.\u001B[39mdevice)\n\u001B[1;32m   1684\u001B[0m     image_mask \u001B[38;5;241m=\u001B[39m input_ids \u001B[38;5;241m==\u001B[39m \u001B[38;5;28mself\u001B[39m\u001B[38;5;241m.\u001B[39mconfig\u001B[38;5;241m.\u001B[39mimage_token_id\n\u001B[1;32m   1685\u001B[0m     \u001B[38;5;28;01mif\u001B[39;00m \u001B[38;5;28mself\u001B[39m\u001B[38;5;241m.\u001B[39mtraining:\n",
      "File \u001B[0;32m/home/zeus/miniconda3/envs/cloudspace/lib/python3.10/site-packages/torch/nn/modules/module.py:1511\u001B[0m, in \u001B[0;36mModule._wrapped_call_impl\u001B[0;34m(self, *args, **kwargs)\u001B[0m\n\u001B[1;32m   1509\u001B[0m     \u001B[38;5;28;01mreturn\u001B[39;00m \u001B[38;5;28mself\u001B[39m\u001B[38;5;241m.\u001B[39m_compiled_call_impl(\u001B[38;5;241m*\u001B[39margs, \u001B[38;5;241m*\u001B[39m\u001B[38;5;241m*\u001B[39mkwargs)  \u001B[38;5;66;03m# type: ignore[misc]\u001B[39;00m\n\u001B[1;32m   1510\u001B[0m \u001B[38;5;28;01melse\u001B[39;00m:\n\u001B[0;32m-> 1511\u001B[0m     \u001B[38;5;28;01mreturn\u001B[39;00m \u001B[38;5;28;43mself\u001B[39;49m\u001B[38;5;241;43m.\u001B[39;49m\u001B[43m_call_impl\u001B[49m\u001B[43m(\u001B[49m\u001B[38;5;241;43m*\u001B[39;49m\u001B[43margs\u001B[49m\u001B[43m,\u001B[49m\u001B[43m \u001B[49m\u001B[38;5;241;43m*\u001B[39;49m\u001B[38;5;241;43m*\u001B[39;49m\u001B[43mkwargs\u001B[49m\u001B[43m)\u001B[49m\n",
      "File \u001B[0;32m/home/zeus/miniconda3/envs/cloudspace/lib/python3.10/site-packages/torch/nn/modules/module.py:1520\u001B[0m, in \u001B[0;36mModule._call_impl\u001B[0;34m(self, *args, **kwargs)\u001B[0m\n\u001B[1;32m   1515\u001B[0m \u001B[38;5;66;03m# If we don't have any hooks, we want to skip the rest of the logic in\u001B[39;00m\n\u001B[1;32m   1516\u001B[0m \u001B[38;5;66;03m# this function, and just call forward.\u001B[39;00m\n\u001B[1;32m   1517\u001B[0m \u001B[38;5;28;01mif\u001B[39;00m \u001B[38;5;129;01mnot\u001B[39;00m (\u001B[38;5;28mself\u001B[39m\u001B[38;5;241m.\u001B[39m_backward_hooks \u001B[38;5;129;01mor\u001B[39;00m \u001B[38;5;28mself\u001B[39m\u001B[38;5;241m.\u001B[39m_backward_pre_hooks \u001B[38;5;129;01mor\u001B[39;00m \u001B[38;5;28mself\u001B[39m\u001B[38;5;241m.\u001B[39m_forward_hooks \u001B[38;5;129;01mor\u001B[39;00m \u001B[38;5;28mself\u001B[39m\u001B[38;5;241m.\u001B[39m_forward_pre_hooks\n\u001B[1;32m   1518\u001B[0m         \u001B[38;5;129;01mor\u001B[39;00m _global_backward_pre_hooks \u001B[38;5;129;01mor\u001B[39;00m _global_backward_hooks\n\u001B[1;32m   1519\u001B[0m         \u001B[38;5;129;01mor\u001B[39;00m _global_forward_hooks \u001B[38;5;129;01mor\u001B[39;00m _global_forward_pre_hooks):\n\u001B[0;32m-> 1520\u001B[0m     \u001B[38;5;28;01mreturn\u001B[39;00m \u001B[43mforward_call\u001B[49m\u001B[43m(\u001B[49m\u001B[38;5;241;43m*\u001B[39;49m\u001B[43margs\u001B[49m\u001B[43m,\u001B[49m\u001B[43m \u001B[49m\u001B[38;5;241;43m*\u001B[39;49m\u001B[38;5;241;43m*\u001B[39;49m\u001B[43mkwargs\u001B[49m\u001B[43m)\u001B[49m\n\u001B[1;32m   1522\u001B[0m \u001B[38;5;28;01mtry\u001B[39;00m:\n\u001B[1;32m   1523\u001B[0m     result \u001B[38;5;241m=\u001B[39m \u001B[38;5;28;01mNone\u001B[39;00m\n",
      "File \u001B[0;32m/home/zeus/miniconda3/envs/cloudspace/lib/python3.10/site-packages/transformers/models/qwen2_vl/modeling_qwen2_vl.py:1120\u001B[0m, in \u001B[0;36mQwen2VisionTransformerPretrainedModel.forward\u001B[0;34m(self, hidden_states, grid_thw)\u001B[0m\n\u001B[1;32m   1117\u001B[0m cu_seqlens \u001B[38;5;241m=\u001B[39m F\u001B[38;5;241m.\u001B[39mpad(cu_seqlens, (\u001B[38;5;241m1\u001B[39m, \u001B[38;5;241m0\u001B[39m), value\u001B[38;5;241m=\u001B[39m\u001B[38;5;241m0\u001B[39m)\n\u001B[1;32m   1119\u001B[0m \u001B[38;5;28;01mfor\u001B[39;00m blk \u001B[38;5;129;01min\u001B[39;00m \u001B[38;5;28mself\u001B[39m\u001B[38;5;241m.\u001B[39mblocks:\n\u001B[0;32m-> 1120\u001B[0m     hidden_states \u001B[38;5;241m=\u001B[39m \u001B[43mblk\u001B[49m\u001B[43m(\u001B[49m\u001B[43mhidden_states\u001B[49m\u001B[43m,\u001B[49m\u001B[43m \u001B[49m\u001B[43mcu_seqlens\u001B[49m\u001B[38;5;241;43m=\u001B[39;49m\u001B[43mcu_seqlens\u001B[49m\u001B[43m,\u001B[49m\u001B[43m \u001B[49m\u001B[43mrotary_pos_emb\u001B[49m\u001B[38;5;241;43m=\u001B[39;49m\u001B[43mrotary_pos_emb\u001B[49m\u001B[43m)\u001B[49m\n\u001B[1;32m   1122\u001B[0m \u001B[38;5;28;01mreturn\u001B[39;00m \u001B[38;5;28mself\u001B[39m\u001B[38;5;241m.\u001B[39mmerger(hidden_states)\n",
      "File \u001B[0;32m/home/zeus/miniconda3/envs/cloudspace/lib/python3.10/site-packages/torch/nn/modules/module.py:1511\u001B[0m, in \u001B[0;36mModule._wrapped_call_impl\u001B[0;34m(self, *args, **kwargs)\u001B[0m\n\u001B[1;32m   1509\u001B[0m     \u001B[38;5;28;01mreturn\u001B[39;00m \u001B[38;5;28mself\u001B[39m\u001B[38;5;241m.\u001B[39m_compiled_call_impl(\u001B[38;5;241m*\u001B[39margs, \u001B[38;5;241m*\u001B[39m\u001B[38;5;241m*\u001B[39mkwargs)  \u001B[38;5;66;03m# type: ignore[misc]\u001B[39;00m\n\u001B[1;32m   1510\u001B[0m \u001B[38;5;28;01melse\u001B[39;00m:\n\u001B[0;32m-> 1511\u001B[0m     \u001B[38;5;28;01mreturn\u001B[39;00m \u001B[38;5;28;43mself\u001B[39;49m\u001B[38;5;241;43m.\u001B[39;49m\u001B[43m_call_impl\u001B[49m\u001B[43m(\u001B[49m\u001B[38;5;241;43m*\u001B[39;49m\u001B[43margs\u001B[49m\u001B[43m,\u001B[49m\u001B[43m \u001B[49m\u001B[38;5;241;43m*\u001B[39;49m\u001B[38;5;241;43m*\u001B[39;49m\u001B[43mkwargs\u001B[49m\u001B[43m)\u001B[49m\n",
      "File \u001B[0;32m/home/zeus/miniconda3/envs/cloudspace/lib/python3.10/site-packages/torch/nn/modules/module.py:1520\u001B[0m, in \u001B[0;36mModule._call_impl\u001B[0;34m(self, *args, **kwargs)\u001B[0m\n\u001B[1;32m   1515\u001B[0m \u001B[38;5;66;03m# If we don't have any hooks, we want to skip the rest of the logic in\u001B[39;00m\n\u001B[1;32m   1516\u001B[0m \u001B[38;5;66;03m# this function, and just call forward.\u001B[39;00m\n\u001B[1;32m   1517\u001B[0m \u001B[38;5;28;01mif\u001B[39;00m \u001B[38;5;129;01mnot\u001B[39;00m (\u001B[38;5;28mself\u001B[39m\u001B[38;5;241m.\u001B[39m_backward_hooks \u001B[38;5;129;01mor\u001B[39;00m \u001B[38;5;28mself\u001B[39m\u001B[38;5;241m.\u001B[39m_backward_pre_hooks \u001B[38;5;129;01mor\u001B[39;00m \u001B[38;5;28mself\u001B[39m\u001B[38;5;241m.\u001B[39m_forward_hooks \u001B[38;5;129;01mor\u001B[39;00m \u001B[38;5;28mself\u001B[39m\u001B[38;5;241m.\u001B[39m_forward_pre_hooks\n\u001B[1;32m   1518\u001B[0m         \u001B[38;5;129;01mor\u001B[39;00m _global_backward_pre_hooks \u001B[38;5;129;01mor\u001B[39;00m _global_backward_hooks\n\u001B[1;32m   1519\u001B[0m         \u001B[38;5;129;01mor\u001B[39;00m _global_forward_hooks \u001B[38;5;129;01mor\u001B[39;00m _global_forward_pre_hooks):\n\u001B[0;32m-> 1520\u001B[0m     \u001B[38;5;28;01mreturn\u001B[39;00m \u001B[43mforward_call\u001B[49m\u001B[43m(\u001B[49m\u001B[38;5;241;43m*\u001B[39;49m\u001B[43margs\u001B[49m\u001B[43m,\u001B[49m\u001B[43m \u001B[49m\u001B[38;5;241;43m*\u001B[39;49m\u001B[38;5;241;43m*\u001B[39;49m\u001B[43mkwargs\u001B[49m\u001B[43m)\u001B[49m\n\u001B[1;32m   1522\u001B[0m \u001B[38;5;28;01mtry\u001B[39;00m:\n\u001B[1;32m   1523\u001B[0m     result \u001B[38;5;241m=\u001B[39m \u001B[38;5;28;01mNone\u001B[39;00m\n",
      "File \u001B[0;32m/home/zeus/miniconda3/envs/cloudspace/lib/python3.10/site-packages/transformers/models/qwen2_vl/modeling_qwen2_vl.py:430\u001B[0m, in \u001B[0;36mQwen2VLVisionBlock.forward\u001B[0;34m(self, hidden_states, cu_seqlens, rotary_pos_emb)\u001B[0m\n\u001B[1;32m    429\u001B[0m \u001B[38;5;28;01mdef\u001B[39;00m \u001B[38;5;21mforward\u001B[39m(\u001B[38;5;28mself\u001B[39m, hidden_states, cu_seqlens, rotary_pos_emb) \u001B[38;5;241m-\u001B[39m\u001B[38;5;241m>\u001B[39m torch\u001B[38;5;241m.\u001B[39mTensor:\n\u001B[0;32m--> 430\u001B[0m     hidden_states \u001B[38;5;241m=\u001B[39m hidden_states \u001B[38;5;241m+\u001B[39m \u001B[38;5;28;43mself\u001B[39;49m\u001B[38;5;241;43m.\u001B[39;49m\u001B[43mattn\u001B[49m\u001B[43m(\u001B[49m\n\u001B[1;32m    431\u001B[0m \u001B[43m        \u001B[49m\u001B[38;5;28;43mself\u001B[39;49m\u001B[38;5;241;43m.\u001B[39;49m\u001B[43mnorm1\u001B[49m\u001B[43m(\u001B[49m\u001B[43mhidden_states\u001B[49m\u001B[43m)\u001B[49m\u001B[43m,\u001B[49m\u001B[43m \u001B[49m\u001B[43mcu_seqlens\u001B[49m\u001B[38;5;241;43m=\u001B[39;49m\u001B[43mcu_seqlens\u001B[49m\u001B[43m,\u001B[49m\u001B[43m \u001B[49m\u001B[43mrotary_pos_emb\u001B[49m\u001B[38;5;241;43m=\u001B[39;49m\u001B[43mrotary_pos_emb\u001B[49m\n\u001B[1;32m    432\u001B[0m \u001B[43m    \u001B[49m\u001B[43m)\u001B[49m\n\u001B[1;32m    433\u001B[0m     hidden_states \u001B[38;5;241m=\u001B[39m hidden_states \u001B[38;5;241m+\u001B[39m \u001B[38;5;28mself\u001B[39m\u001B[38;5;241m.\u001B[39mmlp(\u001B[38;5;28mself\u001B[39m\u001B[38;5;241m.\u001B[39mnorm2(hidden_states))\n\u001B[1;32m    434\u001B[0m     \u001B[38;5;28;01mreturn\u001B[39;00m hidden_states\n",
      "File \u001B[0;32m/home/zeus/miniconda3/envs/cloudspace/lib/python3.10/site-packages/torch/nn/modules/module.py:1511\u001B[0m, in \u001B[0;36mModule._wrapped_call_impl\u001B[0;34m(self, *args, **kwargs)\u001B[0m\n\u001B[1;32m   1509\u001B[0m     \u001B[38;5;28;01mreturn\u001B[39;00m \u001B[38;5;28mself\u001B[39m\u001B[38;5;241m.\u001B[39m_compiled_call_impl(\u001B[38;5;241m*\u001B[39margs, \u001B[38;5;241m*\u001B[39m\u001B[38;5;241m*\u001B[39mkwargs)  \u001B[38;5;66;03m# type: ignore[misc]\u001B[39;00m\n\u001B[1;32m   1510\u001B[0m \u001B[38;5;28;01melse\u001B[39;00m:\n\u001B[0;32m-> 1511\u001B[0m     \u001B[38;5;28;01mreturn\u001B[39;00m \u001B[38;5;28;43mself\u001B[39;49m\u001B[38;5;241;43m.\u001B[39;49m\u001B[43m_call_impl\u001B[49m\u001B[43m(\u001B[49m\u001B[38;5;241;43m*\u001B[39;49m\u001B[43margs\u001B[49m\u001B[43m,\u001B[49m\u001B[43m \u001B[49m\u001B[38;5;241;43m*\u001B[39;49m\u001B[38;5;241;43m*\u001B[39;49m\u001B[43mkwargs\u001B[49m\u001B[43m)\u001B[49m\n",
      "File \u001B[0;32m/home/zeus/miniconda3/envs/cloudspace/lib/python3.10/site-packages/torch/nn/modules/module.py:1520\u001B[0m, in \u001B[0;36mModule._call_impl\u001B[0;34m(self, *args, **kwargs)\u001B[0m\n\u001B[1;32m   1515\u001B[0m \u001B[38;5;66;03m# If we don't have any hooks, we want to skip the rest of the logic in\u001B[39;00m\n\u001B[1;32m   1516\u001B[0m \u001B[38;5;66;03m# this function, and just call forward.\u001B[39;00m\n\u001B[1;32m   1517\u001B[0m \u001B[38;5;28;01mif\u001B[39;00m \u001B[38;5;129;01mnot\u001B[39;00m (\u001B[38;5;28mself\u001B[39m\u001B[38;5;241m.\u001B[39m_backward_hooks \u001B[38;5;129;01mor\u001B[39;00m \u001B[38;5;28mself\u001B[39m\u001B[38;5;241m.\u001B[39m_backward_pre_hooks \u001B[38;5;129;01mor\u001B[39;00m \u001B[38;5;28mself\u001B[39m\u001B[38;5;241m.\u001B[39m_forward_hooks \u001B[38;5;129;01mor\u001B[39;00m \u001B[38;5;28mself\u001B[39m\u001B[38;5;241m.\u001B[39m_forward_pre_hooks\n\u001B[1;32m   1518\u001B[0m         \u001B[38;5;129;01mor\u001B[39;00m _global_backward_pre_hooks \u001B[38;5;129;01mor\u001B[39;00m _global_backward_hooks\n\u001B[1;32m   1519\u001B[0m         \u001B[38;5;129;01mor\u001B[39;00m _global_forward_hooks \u001B[38;5;129;01mor\u001B[39;00m _global_forward_pre_hooks):\n\u001B[0;32m-> 1520\u001B[0m     \u001B[38;5;28;01mreturn\u001B[39;00m \u001B[43mforward_call\u001B[49m\u001B[43m(\u001B[49m\u001B[38;5;241;43m*\u001B[39;49m\u001B[43margs\u001B[49m\u001B[43m,\u001B[49m\u001B[43m \u001B[49m\u001B[38;5;241;43m*\u001B[39;49m\u001B[38;5;241;43m*\u001B[39;49m\u001B[43mkwargs\u001B[49m\u001B[43m)\u001B[49m\n\u001B[1;32m   1522\u001B[0m \u001B[38;5;28;01mtry\u001B[39;00m:\n\u001B[1;32m   1523\u001B[0m     result \u001B[38;5;241m=\u001B[39m \u001B[38;5;28;01mNone\u001B[39;00m\n",
      "File \u001B[0;32m/home/zeus/miniconda3/envs/cloudspace/lib/python3.10/site-packages/transformers/models/qwen2_vl/modeling_qwen2_vl.py:403\u001B[0m, in \u001B[0;36mVisionSdpaAttention.forward\u001B[0;34m(self, hidden_states, cu_seqlens, rotary_pos_emb)\u001B[0m\n\u001B[1;32m    401\u001B[0m k \u001B[38;5;241m=\u001B[39m k\u001B[38;5;241m.\u001B[39mtranspose(\u001B[38;5;241m0\u001B[39m, \u001B[38;5;241m1\u001B[39m)\n\u001B[1;32m    402\u001B[0m v \u001B[38;5;241m=\u001B[39m v\u001B[38;5;241m.\u001B[39mtranspose(\u001B[38;5;241m0\u001B[39m, \u001B[38;5;241m1\u001B[39m)\n\u001B[0;32m--> 403\u001B[0m attn_output \u001B[38;5;241m=\u001B[39m \u001B[43mF\u001B[49m\u001B[38;5;241;43m.\u001B[39;49m\u001B[43mscaled_dot_product_attention\u001B[49m\u001B[43m(\u001B[49m\u001B[43mq\u001B[49m\u001B[43m,\u001B[49m\u001B[43m \u001B[49m\u001B[43mk\u001B[49m\u001B[43m,\u001B[49m\u001B[43m \u001B[49m\u001B[43mv\u001B[49m\u001B[43m,\u001B[49m\u001B[43m \u001B[49m\u001B[43mattention_mask\u001B[49m\u001B[43m,\u001B[49m\u001B[43m \u001B[49m\u001B[43mdropout_p\u001B[49m\u001B[38;5;241;43m=\u001B[39;49m\u001B[38;5;241;43m0.0\u001B[39;49m\u001B[43m)\u001B[49m\n\u001B[1;32m    404\u001B[0m attn_output \u001B[38;5;241m=\u001B[39m attn_output\u001B[38;5;241m.\u001B[39mtranspose(\u001B[38;5;241m0\u001B[39m, \u001B[38;5;241m1\u001B[39m)\n\u001B[1;32m    405\u001B[0m attn_output \u001B[38;5;241m=\u001B[39m attn_output\u001B[38;5;241m.\u001B[39mreshape(seq_length, \u001B[38;5;241m-\u001B[39m\u001B[38;5;241m1\u001B[39m)\n",
      "\u001B[0;31mOutOfMemoryError\u001B[0m: CUDA out of memory. Tried to allocate 60.27 GiB. GPU 0 has a total capacity of 44.53 GiB of which 17.99 GiB is free. Process 33165 has 26.54 GiB memory in use. Of the allocated memory 25.50 GiB is allocated by PyTorch, and 536.59 MiB is reserved by PyTorch but unallocated. If reserved but unallocated memory is large try setting PYTORCH_CUDA_ALLOC_CONF=expandable_segments:True to avoid fragmentation.  See documentation for Memory Management  (https://pytorch.org/docs/stable/notes/cuda.html#environment-variables)"
     ]
    }
   ],
   "source": [
    "PROCESS_IMAGES = time.time()\n",
    "process_images(IMAGE_PATH)\n",
    "print(f\"Images processed in {time.time() - PROCESS_IMAGES} seconds\")"
   ]
  },
  {
   "cell_type": "markdown",
   "id": "621623fe",
   "metadata": {},
   "source": [
    "# Classification"
   ]
  },
  {
   "cell_type": "code",
   "execution_count": null,
   "id": "a8266ee9",
   "metadata": {},
   "outputs": [],
   "source": [
    "def calculate_accuracy(json_path):\n",
    "\n",
    "    with open(json_path, 'r') as file:\n",
    "        data = json.load(file)\n",
    "\n",
    "    total_images = 0\n",
    "    images_with_bounding_box = 0\n",
    "\n",
    "\n",
    "    for img_name, result in data.items():\n",
    "        total_images += 1\n",
    "\n",
    "        if isinstance(result, list) and len(result) == 4:\n",
    "            images_with_bounding_box += 1\n",
    "\n",
    "\n",
    "    accuracy = images_with_bounding_box / total_images if total_images > 0 else 0\n",
    "\n",
    "\n",
    "    print(f\"Total Images: {total_images}\")\n",
    "    print(f\"Images with Detections (Bounding Box): {images_with_bounding_box}\")\n",
    "    print(f\"Accuracy: {accuracy:.2%}\")\n",
    "\n",
    "    return accuracy\n",
    "\n",
    "\n",
    "calculate_accuracy(INFERENCE_RESULTS)"
   ]
  },
  {
   "cell_type": "markdown",
   "id": "637fd862",
   "metadata": {},
   "source": [
    "# Detection"
   ]
  },
  {
   "cell_type": "code",
   "execution_count": null,
   "id": "dc5f8076",
   "metadata": {},
   "outputs": [],
   "source": [
    "# Compare both JSON files and see how good the inse"
   ]
  }
 ],
 "metadata": {
  "kernelspec": {
   "display_name": "Python 3",
   "language": "python",
   "name": "python3"
  },
  "language_info": {
   "codemirror_mode": {
    "name": "ipython",
    "version": 2
   },
   "file_extension": ".py",
   "mimetype": "text/x-python",
   "name": "python",
   "nbconvert_exporter": "python",
   "pygments_lexer": "ipython2",
   "version": "2.7.6"
  }
 },
 "nbformat": 4,
 "nbformat_minor": 5
}
